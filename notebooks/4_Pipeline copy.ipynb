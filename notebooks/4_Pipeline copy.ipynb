{
 "cells": [
  {
   "cell_type": "code",
   "execution_count": 84,
   "metadata": {},
   "outputs": [],
   "source": [
    "import warnings\n",
    "import pandas as pd\n",
    "import os\n",
    "import pickle\n",
    "import yaml\n",
    "import numpy as np\n",
    "from snowflake.ml.modeling.preprocessing import OneHotEncoder, StandardScaler\n",
    "from snowflake.ml.modeling.impute import SimpleImputer\n",
    "from snowflake.ml.modeling.compose import ColumnTransformer\n",
    "from snowflake.ml.modeling.pipeline import Pipeline\n",
    "from snowflake.snowpark import Session\n",
    "from snowflake.ml.utils.connection_params import SnowflakeLoginOptions\n"
   ]
  },
  {
   "cell_type": "code",
   "execution_count": 114,
   "metadata": {},
   "outputs": [],
   "source": [
    "session = Session.builder.configs(SnowflakeLoginOptions()).getOrCreate()"
   ]
  },
  {
   "cell_type": "code",
   "execution_count": 139,
   "metadata": {},
   "outputs": [
    {
     "name": "stdout",
     "output_type": "stream",
     "text": [
      "<class 'pandas.core.frame.DataFrame'>\n",
      "Index: 889 entries, 0 to 890\n",
      "Data columns (total 13 columns):\n",
      " #   Column       Non-Null Count  Dtype  \n",
      "---  ------       --------------  -----  \n",
      " 0   SURVIVED     889 non-null    int64  \n",
      " 1   PCLASS       889 non-null    int64  \n",
      " 2   SEX          889 non-null    object \n",
      " 3   AGE          712 non-null    float64\n",
      " 4   SIBSP        889 non-null    int64  \n",
      " 5   PARCH        889 non-null    int64  \n",
      " 6   FARE         889 non-null    float64\n",
      " 7   EMBARKED     889 non-null    object \n",
      " 8   CLASS        889 non-null    object \n",
      " 9   WHO          889 non-null    object \n",
      " 10  ADULT_MALE   889 non-null    bool   \n",
      " 11  EMBARK_TOWN  889 non-null    object \n",
      " 12  ALONE        889 non-null    bool   \n",
      "dtypes: bool(2), float64(2), int64(4), object(5)\n",
      "memory usage: 85.1+ KB\n"
     ]
    }
   ],
   "source": [
    "titanic_df = pd.read_csv('../data/raw/titanic.csv')\n",
    "titanic_df['FARE'] = titanic_df['FARE'].astype(float)\n",
    "titanic_df.drop(['ALIVE', 'DECK'], axis=1, inplace=True)\n",
    "titanic_df.dropna(subset=\"EMBARKED\",inplace=True)\n",
    "cat_cols:list = titanic_df.select_dtypes(include=['object', 'bool']).columns\n",
    "num_cols = titanic_df.drop('SURVIVED', axis=1).select_dtypes(include=['int64', 'float64']).columns\n",
    "titanic_df.info()"
   ]
  },
  {
   "cell_type": "code",
   "execution_count": 144,
   "metadata": {},
   "outputs": [
    {
     "data": {
      "text/plain": [
       "Index(['PCLASS', 'AGE', 'SIBSP', 'PARCH', 'FARE'], dtype='object')"
      ]
     },
     "execution_count": 144,
     "metadata": {},
     "output_type": "execute_result"
    }
   ],
   "source": [
    "num_cols"
   ]
  },
  {
   "cell_type": "code",
   "execution_count": 147,
   "metadata": {},
   "outputs": [],
   "source": [
    "transformers = [\n",
    "    (\n",
    "        'categorical_imputer',\n",
    "        SimpleImputer( \n",
    "            strategy='most_frequent',\n",
    "            output_cols=cat_cols\n",
    "        ),\n",
    "        cat_cols\n",
    "    ),\n",
    "    (\n",
    "        \"OneHotEncoder\",\n",
    "        OneHotEncoder(\n",
    "            drop=\"first\",\n",
    "            handle_unknown=\"ignore\",\n",
    "            output_cols=cat_cols\n",
    "        ),\n",
    "        cat_cols\n",
    "    ),\n",
    "    (\n",
    "         \"numeric_imputer\",\n",
    "            SimpleImputer(\n",
    "                strategy='mean',\n",
    "                output_cols=num_cols\n",
    "        ),\n",
    "        num_cols\n",
    "    ),\n",
    "    (\n",
    "         \"StandardScaler\",\n",
    "             StandardScaler(\n",
    "                output_cols=num_cols\n",
    "        ),\n",
    "        num_cols\n",
    "    )\n",
    "]\n",
    "    \n",
    "preprocessor = ColumnTransformer(transformers=transformers, remainder=\"passthrough\", output_cols=[*cat_cols, *num_cols])"
   ]
  },
  {
   "cell_type": "code",
   "execution_count": 148,
   "metadata": {},
   "outputs": [],
   "source": [
    "preprocessor.fit(titanic_df)\n",
    "transformed_df = preprocessor.transform(titanic_df)"
   ]
  },
  {
   "cell_type": "code",
   "execution_count": 149,
   "metadata": {},
   "outputs": [
    {
     "name": "stdout",
     "output_type": "stream",
     "text": [
      "<class 'pandas.core.frame.DataFrame'>\n",
      "Index: 889 entries, 0 to 890\n",
      "Data columns (total 42 columns):\n",
      " #   Column       Non-Null Count  Dtype  \n",
      "---  ------       --------------  -----  \n",
      " 0   SURVIVED     889 non-null    int64  \n",
      " 1   PCLASS       889 non-null    int64  \n",
      " 2   SEX          889 non-null    object \n",
      " 3   AGE          712 non-null    float64\n",
      " 4   SIBSP        889 non-null    int64  \n",
      " 5   PARCH        889 non-null    int64  \n",
      " 6   FARE         889 non-null    float64\n",
      " 7   EMBARKED     889 non-null    object \n",
      " 8   CLASS        889 non-null    object \n",
      " 9   WHO          889 non-null    object \n",
      " 10  ADULT_MALE   889 non-null    bool   \n",
      " 11  EMBARK_TOWN  889 non-null    object \n",
      " 12  ALONE        889 non-null    bool   \n",
      " 13  SEX_0        889 non-null    object \n",
      " 14  SEX_1        889 non-null    object \n",
      " 15  SEX_2        889 non-null    object \n",
      " 16  SEX_3        889 non-null    object \n",
      " 17  SEX_4        889 non-null    object \n",
      " 18  SEX_5        889 non-null    object \n",
      " 19  SEX_6        889 non-null    object \n",
      " 20  SEX_7        889 non-null    object \n",
      " 21  SEX_8        889 non-null    object \n",
      " 22  SEX_9        889 non-null    object \n",
      " 23  SEX_10       889 non-null    object \n",
      " 24  SEX_11       889 non-null    object \n",
      " 25  SEX_12       889 non-null    object \n",
      " 26  SEX_13       889 non-null    object \n",
      " 27  SEX_14       889 non-null    object \n",
      " 28  SEX_15       889 non-null    object \n",
      " 29  SEX_16       889 non-null    object \n",
      " 30  SEX_17       889 non-null    object \n",
      " 31  SEX_18       889 non-null    object \n",
      " 32  SEX_19       889 non-null    object \n",
      " 33  SEX_20       889 non-null    object \n",
      " 34  SEX_21       889 non-null    object \n",
      " 35  SEX_22       889 non-null    object \n",
      " 36  SEX_23       889 non-null    object \n",
      " 37  SEX_24       712 non-null    object \n",
      " 38  SEX_25       889 non-null    object \n",
      " 39  SEX_26       889 non-null    object \n",
      " 40  SEX_27       889 non-null    object \n",
      " 41  SEX_28       889 non-null    object \n",
      "dtypes: bool(2), float64(2), int64(4), object(34)\n",
      "memory usage: 286.5+ KB\n"
     ]
    }
   ],
   "source": [
    "transformed_df.info()"
   ]
  },
  {
   "cell_type": "code",
   "execution_count": 131,
   "metadata": {},
   "outputs": [
    {
     "data": {
      "text/plain": [
       "['SURVIVED',\n",
       " 'PCLASS',\n",
       " 'SEX',\n",
       " 'AGE',\n",
       " 'SIBSP',\n",
       " 'PARCH',\n",
       " 'FARE',\n",
       " 'EMBARKED',\n",
       " 'CLASS',\n",
       " 'WHO',\n",
       " 'ADULT_MALE',\n",
       " 'EMBARK_TOWN',\n",
       " 'ALONE']"
      ]
     },
     "execution_count": 131,
     "metadata": {},
     "output_type": "execute_result"
    }
   ],
   "source": [
    "preprocessor.get_input_cols()"
   ]
  },
  {
   "cell_type": "code",
   "execution_count": 109,
   "metadata": {},
   "outputs": [
    {
     "name": "stdout",
     "output_type": "stream",
     "text": [
      "<class 'pandas.core.frame.DataFrame'>\n",
      "Index: 889 entries, 0 to 890\n",
      "Data columns (total 22 columns):\n",
      " #   Column       Non-Null Count  Dtype  \n",
      "---  ------       --------------  -----  \n",
      " 0   SURVIVED     889 non-null    int64  \n",
      " 1   PCLASS       889 non-null    int64  \n",
      " 2   SEX          889 non-null    object \n",
      " 3   AGE          712 non-null    float64\n",
      " 4   SIBSP        889 non-null    int64  \n",
      " 5   PARCH        889 non-null    int64  \n",
      " 6   FARE         889 non-null    float64\n",
      " 7   EMBARKED     889 non-null    object \n",
      " 8   CLASS        889 non-null    object \n",
      " 9   WHO          889 non-null    object \n",
      " 10  ADULT_MALE   889 non-null    bool   \n",
      " 11  EMBARK_TOWN  889 non-null    object \n",
      " 12  ALONE        889 non-null    bool   \n",
      " 13  AGE_0        889 non-null    float64\n",
      " 14  AGE_1        889 non-null    float64\n",
      " 15  AGE_2        889 non-null    float64\n",
      " 16  AGE_3        889 non-null    float64\n",
      " 17  AGE_4        889 non-null    float64\n",
      " 18  AGE_5        889 non-null    float64\n",
      " 19  AGE_6        889 non-null    float64\n",
      " 20  AGE_7        889 non-null    float64\n",
      " 21  AGE_8        889 non-null    float64\n",
      "dtypes: bool(2), float64(11), int64(4), object(5)\n",
      "memory usage: 147.6+ KB\n"
     ]
    }
   ],
   "source": [
    "transformed_df.info()"
   ]
  },
  {
   "cell_type": "code",
   "execution_count": 8,
   "metadata": {},
   "outputs": [
    {
     "name": "stderr",
     "output_type": "stream",
     "text": [
      "DataFrame.flatten() is deprecated since 0.7.0. Use `DataFrame.join_table_function()` instead.\n"
     ]
    }
   ],
   "source": [
    "metrics = {\n",
    "        \"Accuracy\": accuracy_score(\n",
    "            df=result_df,\n",
    "            y_true_col_names=\"SURVIVED\",\n",
    "            y_pred_col_names=\"OUTPUT_SURVIVED\",\n",
    "        ),\n",
    "        \"Precision\": precision_score(\n",
    "            df=result_df,\n",
    "            y_true_col_names=\"SURVIVED\",\n",
    "            y_pred_col_names=\"OUTPUT_SURVIVED\",\n",
    "        ),\n",
    "        \"Recall\": recall_score(\n",
    "            df=result_df,\n",
    "            y_true_col_names=\"SURVIVED\",\n",
    "            y_pred_col_names=\"OUTPUT_SURVIVED\",\n",
    "        ),\n",
    "        \"F1 Score\": f1_score(\n",
    "            df=result_df,\n",
    "            y_true_col_names=\"SURVIVED\",\n",
    "            y_pred_col_names=\"OUTPUT_SURVIVED\",\n",
    "        ),\n",
    "        \"Confusion Matrix\": confusion_matrix(\n",
    "            df=result_df, y_true_col_name=\"SURVIVED\", y_pred_col_name=\"OUTPUT_SURVIVED\"\n",
    "        ).tolist(),\n",
    "    }"
   ]
  },
  {
   "cell_type": "code",
   "execution_count": 13,
   "metadata": {},
   "outputs": [
    {
     "data": {
      "text/plain": [
       "{'Accuracy': 0.887931,\n",
       " 'Precision': 0.8961038961038961,\n",
       " 'Recall': 0.7931034482758621,\n",
       " 'F1 Score': 0.8414634146341463,\n",
       " 'Confusion Matrix': [[411.0, 24.0], [54.0, 207.0]]}"
      ]
     },
     "execution_count": 13,
     "metadata": {},
     "output_type": "execute_result"
    }
   ],
   "source": [
    "metrics"
   ]
  },
  {
   "cell_type": "code",
   "execution_count": 14,
   "metadata": {},
   "outputs": [
    {
     "name": "stderr",
     "output_type": "stream",
     "text": [
      "/opt/anaconda3/envs/Intro_SnowML/lib/python3.10/contextlib.py:135: UserWarning: `relax_version` is not set and therefore defaulted to True. Dependency version constraints relaxed from ==x.y.z to >=x.y, <(x+1). To use specific dependency versions for compatibility, reproducibility, etc., set `options={'relax_version': False}` when logging the model.\n",
      "  return next(self.gen)\n"
     ]
    }
   ],
   "source": [
    "X = train_df.drop(\"SURVIVED\").limit(100)\n",
    "\n",
    "reg = Registry(session=session)\n",
    "\n",
    "titanic_model = reg.log_model(\n",
    "    model_name=\"TITANIC_PIPE\",\n",
    "    version_name=get_next_version(reg, \"TITANIC_PIPE\"),\n",
    "    model=pipeline,\n",
    "    metrics=metrics,\n",
    ")"
   ]
  },
  {
   "cell_type": "code",
   "execution_count": 15,
   "metadata": {},
   "outputs": [],
   "source": [
    "m = reg.get_model(\"TITANIC_PIPE\")\n",
    "m.default_version = get_version_with_highest_accuracy(reg, \"TITANIC_PIPE\")"
   ]
  },
  {
   "cell_type": "markdown",
   "metadata": {},
   "source": [
    "## Call pipeline from SQL"
   ]
  },
  {
   "cell_type": "markdown",
   "metadata": {},
   "source": [
    "Show the data is not cleaned before performming inference"
   ]
  },
  {
   "cell_type": "code",
   "execution_count": 17,
   "metadata": {},
   "outputs": [
    {
     "name": "stdout",
     "output_type": "stream",
     "text": [
      "-------------------------------------------------------------------------------------------------------------\n",
      "|\"SURVIVED\"  |\"PCLASS\"  |\"SIBSP\"  |\"PARCH\"  |\"FARE\"    |\"ALONE\"  |\"SEX\"   |\"CLASS\"  |\"WHO\"  |\"EMBARK_TOWN\"  |\n",
      "-------------------------------------------------------------------------------------------------------------\n",
      "|1           |3         |0        |0        |7.9250    |True     |FEMALE  |THIRD    |WOMAN  |SOUTHAMPTON    |\n",
      "|0           |3         |0        |0        |8.4583    |True     |MALE    |THIRD    |MAN    |QUEENSTOWN     |\n",
      "|0           |1         |0        |0        |51.8625   |True     |MALE    |FIRST    |MAN    |SOUTHAMPTON    |\n",
      "|0           |3         |0        |0        |8.0500    |True     |MALE    |THIRD    |MAN    |SOUTHAMPTON    |\n",
      "|1           |3         |0        |0        |8.0292    |True     |FEMALE  |THIRD    |CHILD  |QUEENSTOWN     |\n",
      "|0           |3         |0        |0        |7.8958    |True     |MALE    |THIRD    |MAN    |SOUTHAMPTON    |\n",
      "|1           |1         |1        |0        |146.5208  |False    |FEMALE  |FIRST    |WOMAN  |CHERBOURG      |\n",
      "|1           |2         |1        |2        |41.5792   |False    |FEMALE  |SECOND   |CHILD  |CHERBOURG      |\n",
      "|0           |3         |1        |0        |17.8000   |False    |FEMALE  |THIRD    |WOMAN  |SOUTHAMPTON    |\n",
      "|0           |3         |0        |0        |7.8000    |True     |MALE    |THIRD    |MAN    |SOUTHAMPTON    |\n",
      "-------------------------------------------------------------------------------------------------------------\n",
      "\n"
     ]
    }
   ],
   "source": [
    "test_df = session.table('TEST')\n",
    "test_df.show()"
   ]
  },
  {
   "cell_type": "markdown",
   "metadata": {},
   "source": [
    "Run the pipeline"
   ]
  },
  {
   "cell_type": "code",
   "execution_count": 20,
   "metadata": {},
   "outputs": [
    {
     "name": "stdout",
     "output_type": "stream",
     "text": [
      "-----------------------------------------------------------------------------------------------------------------------\n",
      "|\"PCLASS\"  |\"SIBSP\"  |\"PARCH\"  |\"FARE\"    |\"ALONE\"  |\"SEX\"   |\"CLASS\"  |\"WHO\"  |\"EMBARK_TOWN\"  |\"SURV_PRED\"           |\n",
      "-----------------------------------------------------------------------------------------------------------------------\n",
      "|3         |0        |0        |7.9250    |True     |FEMALE  |THIRD    |WOMAN  |SOUTHAMPTON    |0.5756063461303711    |\n",
      "|3         |0        |0        |8.4583    |True     |MALE    |THIRD    |MAN    |QUEENSTOWN     |0.06476970762014389   |\n",
      "|1         |0        |0        |51.8625   |True     |MALE    |FIRST    |MAN    |SOUTHAMPTON    |0.07613715529441833   |\n",
      "|3         |0        |0        |8.0500    |True     |MALE    |THIRD    |MAN    |SOUTHAMPTON    |0.1316869705915451    |\n",
      "|3         |0        |0        |8.0292    |True     |FEMALE  |THIRD    |CHILD  |QUEENSTOWN     |0.5572702884674072    |\n",
      "|3         |0        |0        |7.8958    |True     |MALE    |THIRD    |MAN    |SOUTHAMPTON    |0.030010107904672623  |\n",
      "|1         |1        |0        |146.5208  |False    |FEMALE  |FIRST    |WOMAN  |CHERBOURG      |0.9791738986968994    |\n",
      "|2         |1        |2        |41.5792   |False    |FEMALE  |SECOND   |CHILD  |CHERBOURG      |0.9464718103408813    |\n",
      "|3         |1        |0        |17.8000   |False    |FEMALE  |THIRD    |WOMAN  |SOUTHAMPTON    |0.19497600197792053   |\n",
      "|3         |0        |0        |7.8000    |True     |MALE    |THIRD    |MAN    |SOUTHAMPTON    |0.08418451994657516   |\n",
      "-----------------------------------------------------------------------------------------------------------------------\n",
      "\n"
     ]
    }
   ],
   "source": [
    "#Copy this code in a snowflake worksheet or run via session.sql\n",
    "inference_df = session.sql('''\n",
    "select *, TITANIC_PIPE!predict_proba(*):PREDICT_PROBA_1\n",
    "as surv_pred\n",
    "from (\n",
    "select * exclude survived\n",
    "from test)\n",
    "            ''')\n",
    "inference_df.show()"
   ]
  },
  {
   "cell_type": "code",
   "execution_count": 22,
   "metadata": {},
   "outputs": [
    {
     "name": "stdout",
     "output_type": "stream",
     "text": [
      "--------------------------------------------------------------------------------------------------------------\n",
      "|\"PCLASS\"  |\"SIBSP\"  |\"PARCH\"  |\"FARE\"    |\"ALONE\"  |\"SEX\"   |\"CLASS\"  |\"WHO\"  |\"EMBARK_TOWN\"  |\"SURV_PRED\"  |\n",
      "--------------------------------------------------------------------------------------------------------------\n",
      "|3         |0        |0        |7.9250    |True     |FEMALE  |THIRD    |WOMAN  |SOUTHAMPTON    |1            |\n",
      "|3         |0        |0        |8.4583    |True     |MALE    |THIRD    |MAN    |QUEENSTOWN     |0            |\n",
      "|1         |0        |0        |51.8625   |True     |MALE    |FIRST    |MAN    |SOUTHAMPTON    |0            |\n",
      "|3         |0        |0        |8.0500    |True     |MALE    |THIRD    |MAN    |SOUTHAMPTON    |0            |\n",
      "|3         |0        |0        |8.0292    |True     |FEMALE  |THIRD    |CHILD  |QUEENSTOWN     |1            |\n",
      "|3         |0        |0        |7.8958    |True     |MALE    |THIRD    |MAN    |SOUTHAMPTON    |0            |\n",
      "|1         |1        |0        |146.5208  |False    |FEMALE  |FIRST    |WOMAN  |CHERBOURG      |1            |\n",
      "|2         |1        |2        |41.5792   |False    |FEMALE  |SECOND   |CHILD  |CHERBOURG      |1            |\n",
      "|3         |1        |0        |17.8000   |False    |FEMALE  |THIRD    |WOMAN  |SOUTHAMPTON    |0            |\n",
      "|3         |0        |0        |7.8000    |True     |MALE    |THIRD    |MAN    |SOUTHAMPTON    |0            |\n",
      "--------------------------------------------------------------------------------------------------------------\n",
      "\n"
     ]
    }
   ],
   "source": [
    "#Copy this code in a snowflake worksheet or run via session.sql\n",
    "inference_df = session.sql('''\n",
    "select *, TITANIC_PIPE!predict(*):OUTPUT_SURVIVED\n",
    "as surv_pred\n",
    "from (\n",
    "select * exclude survived\n",
    "from test)\n",
    "            ''')\n",
    "inference_df.show()"
   ]
  }
 ],
 "metadata": {
  "kernelspec": {
   "display_name": "Intro_SnowML",
   "language": "python",
   "name": "python3"
  },
  "language_info": {
   "codemirror_mode": {
    "name": "ipython",
    "version": 3
   },
   "file_extension": ".py",
   "mimetype": "text/x-python",
   "name": "python",
   "nbconvert_exporter": "python",
   "pygments_lexer": "ipython3",
   "version": "3.11.9"
  }
 },
 "nbformat": 4,
 "nbformat_minor": 2
}
